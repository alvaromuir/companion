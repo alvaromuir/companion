{
 "cells": [
  {
   "cell_type": "markdown",
   "metadata": {},
   "source": [
    "VzW Example: Market Basket Analysis  \n",
    "sourced from VzW dataset  \n",
    "pull dates: Jan 01 through Jan 07 2018  \n",
    "265k observations"
   ]
  },
  {
   "cell_type": "code",
   "execution_count": 1,
   "metadata": {
    "hide_input": false
   },
   "outputs": [
    {
     "name": "stdout",
     "output_type": "stream",
     "text": [
      "Total rows including the header: 269101\n"
     ]
    }
   ],
   "source": [
    "##############################################\n",
    "# VzW Example: Market Basket Analysis        #\n",
    "# Alvaro Muir, It Analytics Data Engineering #\n",
    "# Feb 15 2018                                #\n",
    "##############################################\n",
    "\n",
    "aSRC_DIR = \"../data\"\n",
    "DATASET = \"data-01-01-18\"\n",
    "src     = ''.join([SRC_DIR,'/', DATASET,'-01-07-18_sample-269.1k','.csv.bz2'])\n",
    "LIMIT   = 299999\n",
    "\n",
    "df = pd.read_csv(src, compression='bz2', nrows=LIMIT)\n",
    "print(\"Total rows including the header: {}\".format(df.shape[0] + 1))\n",
    "\n",
    "#\n",
    "#  General cleanup\n",
    "\n",
    "\n",
    "df = df.dropna(axis=1, how='all')\n",
    "df = df.drop([col for col in [col for col in df.columns if col.endswith('_dt' or '_rev' or '_step')]], axis=1)\n",
    "df = df.fillna(0)\n",
    "\n",
    "for c in df.columns:\n",
    "    if df[c].dtype == 'object':\n",
    "        df[c] = df[c].str.lower()\n",
    "\n",
    "for(c) in df.columns:\n",
    "    if len(df[c].unique()) < 2:\n",
    "        df = df.drop(c, axis=1)\n",
    "        \n",
    "df.columns = [col.replace('a.','') for col in df.columns.tolist()]\n",
    "df.columns = [col.replace('b.','') for col in df.columns.tolist()]\n",
    "df.columns = [col.replace('c.','') for col in df.columns.tolist()]\n",
    "\n",
    "df['cust_id'] = df['cust_id'].astype('str').map(lambda x: x.rstrip('0').rstrip('.'))\n",
    "df['invc_num'] = df['invc_num'].astype('str')\n",
    "\n",
    "to_remove = ['apple tablet', 'android tablet', 'windows tablet',\n",
    "             'verizon wireless home phone','windows tablet',\n",
    "             'ip virtual devices']\n",
    "\n",
    "df = df[~df['eqp_desc'].isin(to_remove)]"
   ]
  },
  {
   "cell_type": "code",
   "execution_count": 2,
   "metadata": {},
   "outputs": [
    {
     "name": "stdout",
     "output_type": "stream",
     "text": [
      "unique counts\n"
     ]
    },
    {
     "data": {
      "text/html": [
       "<div>\n",
       "<style scoped>\n",
       "    .dataframe tbody tr th:only-of-type {\n",
       "        vertical-align: middle;\n",
       "    }\n",
       "\n",
       "    .dataframe tbody tr th {\n",
       "        vertical-align: top;\n",
       "    }\n",
       "\n",
       "    .dataframe thead th {\n",
       "        text-align: right;\n",
       "    }\n",
       "</style>\n",
       "<table border=\"1\" class=\"dataframe\">\n",
       "  <thead>\n",
       "    <tr style=\"text-align: right;\">\n",
       "      <th></th>\n",
       "      <th>customers</th>\n",
       "      <th>devices</th>\n",
       "      <th>invoices</th>\n",
       "      <th>items</th>\n",
       "    </tr>\n",
       "  </thead>\n",
       "  <tbody>\n",
       "    <tr>\n",
       "      <th>0</th>\n",
       "      <td>122682</td>\n",
       "      <td>808</td>\n",
       "      <td>154048</td>\n",
       "      <td>1759</td>\n",
       "    </tr>\n",
       "  </tbody>\n",
       "</table>\n",
       "</div>"
      ],
      "text/plain": [
       "   customers  devices  invoices  items\n",
       "0     122682      808    154048   1759"
      ]
     },
     "execution_count": 2,
     "metadata": {},
     "output_type": "execute_result"
    }
   ],
   "source": [
    "purchases = df[['cust_id','invc_num', 'device_prod_nm', 'item_desc', 'sales_qty']]\n",
    "purchases.dropna(axis=0, subset=['invc_num'], inplace=True)\n",
    "\n",
    "customers = purchases.cust_id.unique()\n",
    "invoices = purchases.invc_num.unique()\n",
    "devices  = purchases.device_prod_nm.unique()\n",
    "items = [' '.join(i.split()) for i in purchases.item_desc.unique()] # there's weird spaces in there\n",
    "\n",
    "print('unique counts')\n",
    "pd.DataFrame(data={'customers': [len(customers)], \n",
    "                   'invoices': [len(invoices)], \n",
    "                   'devices': [len(devices)], \n",
    "                   'items': [len(items)]})\n"
   ]
  },
  {
   "cell_type": "code",
   "execution_count": 3,
   "metadata": {},
   "outputs": [
    {
     "data": {
      "text/html": [
       "<div>\n",
       "<style scoped>\n",
       "    .dataframe tbody tr th:only-of-type {\n",
       "        vertical-align: middle;\n",
       "    }\n",
       "\n",
       "    .dataframe tbody tr th {\n",
       "        vertical-align: top;\n",
       "    }\n",
       "\n",
       "    .dataframe thead th {\n",
       "        text-align: right;\n",
       "    }\n",
       "</style>\n",
       "<table border=\"1\" class=\"dataframe\">\n",
       "  <thead>\n",
       "    <tr style=\"text-align: right;\">\n",
       "      <th></th>\n",
       "      <th>support</th>\n",
       "      <th>itemsets</th>\n",
       "    </tr>\n",
       "  </thead>\n",
       "  <tbody>\n",
       "    <tr>\n",
       "      <th>0</th>\n",
       "      <td>0.019332</td>\n",
       "      <td>[blu apple airpods]</td>\n",
       "    </tr>\n",
       "    <tr>\n",
       "      <th>1</th>\n",
       "      <td>0.016346</td>\n",
       "      <td>[bpk replenishment of     prepaid cards]</td>\n",
       "    </tr>\n",
       "    <tr>\n",
       "      <th>2</th>\n",
       "      <td>0.015229</td>\n",
       "      <td>[cas ob defender iphone7 black]</td>\n",
       "    </tr>\n",
       "    <tr>\n",
       "      <th>3</th>\n",
       "      <td>0.010250</td>\n",
       "      <td>[cas ob symmetry iphone7 black]</td>\n",
       "    </tr>\n",
       "    <tr>\n",
       "      <th>4</th>\n",
       "      <td>0.039637</td>\n",
       "      <td>[chg vzw 24a lightning tvl]</td>\n",
       "    </tr>\n",
       "  </tbody>\n",
       "</table>\n",
       "</div>"
      ],
      "text/plain": [
       "    support                                  itemsets\n",
       "0  0.019332                       [blu apple airpods]\n",
       "1  0.016346  [bpk replenishment of     prepaid cards]\n",
       "2  0.015229           [cas ob defender iphone7 black]\n",
       "3  0.010250           [cas ob symmetry iphone7 black]\n",
       "4  0.039637               [chg vzw 24a lightning tvl]"
      ]
     },
     "execution_count": 3,
     "metadata": {},
     "output_type": "execute_result"
    }
   ],
   "source": [
    "# lets create a 'basket' for inspection\n",
    "\n",
    "basket = (purchases[['invc_num', 'item_desc', 'sales_qty']]\n",
    "          .groupby(['invc_num', 'item_desc'])['sales_qty']\n",
    "          .sum().unstack().reset_index().fillna(0)\n",
    "          .set_index('invc_num'))\n",
    "\n",
    "basket_sets = basket.applymap(lambda x: 0 if x <= 0 else 1)\n",
    "\n",
    "from mlxtend.frequent_patterns import apriori\n",
    "from mlxtend.frequent_patterns import association_rules\n",
    "\n",
    "frequent_itemsets = apriori(basket_sets, min_support=0.01, use_colnames=True)\n",
    "frequent_itemsets.head()"
   ]
  },
  {
   "cell_type": "code",
   "execution_count": 4,
   "metadata": {},
   "outputs": [
    {
     "data": {
      "text/html": [
       "<div>\n",
       "<style scoped>\n",
       "    .dataframe tbody tr th:only-of-type {\n",
       "        vertical-align: middle;\n",
       "    }\n",
       "\n",
       "    .dataframe tbody tr th {\n",
       "        vertical-align: top;\n",
       "    }\n",
       "\n",
       "    .dataframe thead th {\n",
       "        text-align: right;\n",
       "    }\n",
       "</style>\n",
       "<table border=\"1\" class=\"dataframe\">\n",
       "  <thead>\n",
       "    <tr style=\"text-align: right;\">\n",
       "      <th></th>\n",
       "      <th>antecedants</th>\n",
       "      <th>consequents</th>\n",
       "      <th>support</th>\n",
       "      <th>confidence</th>\n",
       "      <th>lift</th>\n",
       "    </tr>\n",
       "  </thead>\n",
       "  <tbody>\n",
       "    <tr>\n",
       "      <th>0</th>\n",
       "      <td>(scr zagg invisibleshieldglass iphone7)</td>\n",
       "      <td>(cla vzw 24a lightning vpc)</td>\n",
       "      <td>0.093841</td>\n",
       "      <td>0.116837</td>\n",
       "      <td>2.199505</td>\n",
       "    </tr>\n",
       "    <tr>\n",
       "      <th>1</th>\n",
       "      <td>(cla vzw 24a lightning vpc)</td>\n",
       "      <td>(scr zagg invisibleshieldglass iphone7)</td>\n",
       "      <td>0.053120</td>\n",
       "      <td>0.206404</td>\n",
       "      <td>2.199505</td>\n",
       "    </tr>\n",
       "    <tr>\n",
       "      <th>2</th>\n",
       "      <td>(cla vzw usbc pd20 vpc)</td>\n",
       "      <td>(scr zagg invisishield glass gal8 curved)</td>\n",
       "      <td>0.060280</td>\n",
       "      <td>0.199763</td>\n",
       "      <td>7.025823</td>\n",
       "    </tr>\n",
       "    <tr>\n",
       "      <th>3</th>\n",
       "      <td>(scr zagg invisishield glass gal8 curved)</td>\n",
       "      <td>(cla vzw usbc pd20 vpc)</td>\n",
       "      <td>0.028433</td>\n",
       "      <td>0.423516</td>\n",
       "      <td>7.025823</td>\n",
       "    </tr>\n",
       "    <tr>\n",
       "      <th>4</th>\n",
       "      <td>(scr zagg invisibleshieldglass iphone7)</td>\n",
       "      <td>(ppw mophie powerstation 6000 space grey)</td>\n",
       "      <td>0.093841</td>\n",
       "      <td>0.108813</td>\n",
       "      <td>2.469419</td>\n",
       "    </tr>\n",
       "    <tr>\n",
       "      <th>5</th>\n",
       "      <td>(ppw mophie powerstation 6000 space grey)</td>\n",
       "      <td>(scr zagg invisibleshieldglass iphone7)</td>\n",
       "      <td>0.044064</td>\n",
       "      <td>0.231732</td>\n",
       "      <td>2.469419</td>\n",
       "    </tr>\n",
       "  </tbody>\n",
       "</table>\n",
       "</div>"
      ],
      "text/plain": [
       "                                 antecedants  \\\n",
       "0    (scr zagg invisibleshieldglass iphone7)   \n",
       "1                (cla vzw 24a lightning vpc)   \n",
       "2                    (cla vzw usbc pd20 vpc)   \n",
       "3  (scr zagg invisishield glass gal8 curved)   \n",
       "4    (scr zagg invisibleshieldglass iphone7)   \n",
       "5  (ppw mophie powerstation 6000 space grey)   \n",
       "\n",
       "                                 consequents   support  confidence      lift  \n",
       "0                (cla vzw 24a lightning vpc)  0.093841    0.116837  2.199505  \n",
       "1    (scr zagg invisibleshieldglass iphone7)  0.053120    0.206404  2.199505  \n",
       "2  (scr zagg invisishield glass gal8 curved)  0.060280    0.199763  7.025823  \n",
       "3                    (cla vzw usbc pd20 vpc)  0.028433    0.423516  7.025823  \n",
       "4  (ppw mophie powerstation 6000 space grey)  0.093841    0.108813  2.469419  \n",
       "5    (scr zagg invisibleshieldglass iphone7)  0.044064    0.231732  2.469419  "
      ]
     },
     "execution_count": 4,
     "metadata": {},
     "output_type": "execute_result"
    }
   ],
   "source": [
    "rules = association_rules(frequent_itemsets, metric=\"lift\", min_threshold=1)\n",
    "rules"
   ]
  },
  {
   "cell_type": "code",
   "execution_count": 5,
   "metadata": {},
   "outputs": [
    {
     "data": {
      "text/html": [
       "<div>\n",
       "<style scoped>\n",
       "    .dataframe tbody tr th:only-of-type {\n",
       "        vertical-align: middle;\n",
       "    }\n",
       "\n",
       "    .dataframe tbody tr th {\n",
       "        vertical-align: top;\n",
       "    }\n",
       "\n",
       "    .dataframe thead th {\n",
       "        text-align: right;\n",
       "    }\n",
       "</style>\n",
       "<table border=\"1\" class=\"dataframe\">\n",
       "  <thead>\n",
       "    <tr style=\"text-align: right;\">\n",
       "      <th></th>\n",
       "      <th>antecedants</th>\n",
       "      <th>consequents</th>\n",
       "      <th>support</th>\n",
       "      <th>confidence</th>\n",
       "      <th>lift</th>\n",
       "    </tr>\n",
       "  </thead>\n",
       "  <tbody>\n",
       "  </tbody>\n",
       "</table>\n",
       "</div>"
      ],
      "text/plain": [
       "Empty DataFrame\n",
       "Columns: [antecedants, consequents, support, confidence, lift]\n",
       "Index: []"
      ]
     },
     "execution_count": 5,
     "metadata": {},
     "output_type": "execute_result"
    }
   ],
   "source": [
    "# gonna change this with larger dataset\n",
    "rules[ (rules['lift'] >= 1) &\n",
    "       (rules['confidence'] >= 0.6) ]"
   ]
  },
  {
   "cell_type": "code",
   "execution_count": 6,
   "metadata": {},
   "outputs": [
    {
     "data": {
      "text/plain": [
       "4689.0"
      ]
     },
     "execution_count": 6,
     "metadata": {},
     "output_type": "execute_result"
    }
   ],
   "source": [
    "basket['scr zagg invisishield glass gal8 curved'].sum()"
   ]
  }
 ],
 "metadata": {
  "hide_input": false,
  "kernelspec": {
   "display_name": "Python 3",
   "language": "python",
   "name": "python3"
  },
  "language_info": {
   "codemirror_mode": {
    "name": "ipython",
    "version": 3
   },
   "file_extension": ".py",
   "mimetype": "text/x-python",
   "name": "python",
   "nbconvert_exporter": "python",
   "pygments_lexer": "ipython3",
   "version": "3.6.4"
  }
 },
 "nbformat": 4,
 "nbformat_minor": 2
}
